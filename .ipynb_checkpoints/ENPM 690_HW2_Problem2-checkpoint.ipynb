{
 "cells": [
  {
   "cell_type": "code",
   "execution_count": 66,
   "metadata": {},
   "outputs": [],
   "source": [
    "# Importing required Libraries\n",
    "\n",
    "import numpy as np\n",
    "import matplotlib.pyplot as plt\n",
    "from sklearn.model_selection import train_test_split as tts\n",
    "import random\n",
    "import math"
   ]
  },
  {
   "cell_type": "code",
   "execution_count": null,
   "metadata": {},
   "outputs": [],
   "source": [
    "# Creating Dataset\n",
    "\n",
    "x_coordinate = np.arange(-50,50)\n",
    "y_coordinate = [x*x for x in x_coordinate]\n",
    "\n",
    "plt.scatter(x_coordinate, y_coordinate)\n",
    "plt.legend(\"Curve formed using the function\")\n",
    "plt.show()\n",
    "\n",
    "X = x_coordinate\n",
    "Y = y_coordinate\n",
    "\n",
    "points = 100\n"
   ]
  },
  {
   "cell_type": "code",
   "execution_count": 105,
   "metadata": {},
   "outputs": [],
   "source": [
    "# Splitting the dataset for Train and Test\n",
    "X_train, X_test, Y_train, Y_test = tts( X, Y, test_size = 0.3, random_state = 100)\n"
   ]
  },
  {
   "cell_type": "code",
   "execution_count": 106,
   "metadata": {},
   "outputs": [
    {
     "data": {
      "image/png": "[encoded data removed]",
      "text/plain": [
       "<Figure size 432x288 with 1 Axes>"
      ]
     },
     "metadata": {
      "needs_background": "light"
     },
     "output_type": "display_data"
    }
   ],
   "source": [
    "plt.plot(X_train, Y_train, 'ro', label = 'Training Data')\n",
    "plt.legend()\n",
    "plt.show()"
   ]
  },
  {
   "cell_type": "code",
   "execution_count": 107,
   "metadata": {},
   "outputs": [],
   "source": [
    "# Variable Initialization\n",
    "\n",
    "generalization_factor = 20\n",
    "association_value = 35\n",
    "weights = np.ones((35,1))\n",
    "learning_rate = 1"
   ]
  },
  {
   "cell_type": "code",
   "execution_count": 116,
   "metadata": {},
   "outputs": [],
   "source": [
    "class assocVal:\n",
    "    def __init__(self,index, weight):\n",
    "        self.index = 0\n",
    "        self.weight = []"
   ]
  },
  {
   "cell_type": "code",
   "execution_count": 117,
   "metadata": {},
   "outputs": [],
   "source": [
    "def weightCalc(indexval, generalization_factor):\n",
    "    weights = []\n",
    "    index = []\n",
    "    avg_weight = []\n",
    "    gf = generalization_factor/2\n",
    "    index = math.floor(indexval - gf)\n",
    "    avg_weight = math.ceil(indexval - gf) - (indexval - gf)\n",
    "    \n",
    "    highest_block = []\n",
    "    highest_block.append(index)\n",
    "    highest_block.append(avg_weight)\n",
    "    \n",
    "    if avg_weight != 0:\n",
    "        weights.append(top_edge)\n",
    "        \n",
    "    for index in range(math.ceil(indexval - gf), math.floor(indexval +gf + 1)):\n",
    "        middle_block = []\n",
    "        middle_block.append(index)\n",
    "        middle_block.append(1)\n",
    "        weights.append(middle_block)\n",
    "        \n",
    "    index = math.floor(indexval + generalization_factor/2)\n",
    "    avg_weight = (indexval + generalization_factor/2) - math.floor(indexval+generalization_factor/2)\n",
    "    \n",
    "    lowest_block = []\n",
    "    lowest_block.append(index)\n",
    "    lowest_block.append(avg_weight)\n",
    "    \n",
    "    if avg_weight != 0:\n",
    "        weights.append(lowest_block)\n",
    "    return weights\n",
    "\n"
   ]
  },
  {
   "cell_type": "code",
   "execution_count": 118,
   "metadata": {},
   "outputs": [],
   "source": [
    "def weightIndx(i, generalization_factor, association_value, points):\n",
    "    i = int(i)\n",
    "    asindx = generalization_factor/2 + ((association_value - 2*(generalization_factor/2))*i)/points\n",
    "    return math.floor(asindx) "
   ]
  },
  {
   "cell_type": "code",
   "execution_count": 124,
   "metadata": {},
   "outputs": [],
   "source": [
    "def meanSquare(weights, ovr_weight, X, Y):\n",
    "    meansqr = 0\n",
    "    for i in range(0,len(ovr_weight)):\n",
    "        summation_ovr = 0\n",
    "        for j in ovr_weight[i]:\n",
    "            summation_ovr = summation_ovr + (weights[j[0]]*j[1])\n",
    "        meansqr = meansqr + (summation_ovr - Y_train[i])**2\n",
    "    return meansqr\n",
    "\n",
    "def Result(weights,ovr_weight):\n",
    "    output = []\n",
    "    for i in range(0,len(ovr_weight)):\n",
    "        summation_ovr = 0\n",
    "        for j in ovr_weight[i]:\n",
    "            summation_ovr = summation_ovr + (weights[j[0]]*j[1])\n",
    "        output.append(summation_ovr)\n",
    "    return output"
   ]
  },
  {
   "cell_type": "code",
   "execution_count": 125,
   "metadata": {},
   "outputs": [],
   "source": [
    "ovr = assocVal([],[])\n",
    "ovr_test = assocVal([],[])"
   ]
  },
  {
   "cell_type": "code",
   "execution_count": 126,
   "metadata": {},
   "outputs": [],
   "source": [
    "for indexval in X_train:\n",
    "    ovr.index = weightIndx(indexval, generalization_factor , association_value, points)\n",
    "    ovr.weight.append(weightCalc(ovr.index, generalization_factor))\n",
    "\n",
    "for ix in X_test:\n",
    "    ovr_test.index = (weightIndx(ix, generalization_factor , association_value, points))\n",
    "    ovr_test.weight.append(weightCalc(ovr_test.index, generalization_factor))\n",
    "    "
   ]
  },
  {
   "cell_type": "code",
   "execution_count": null,
   "metadata": {},
   "outputs": [],
   "source": [
    "err_list = []\n",
    "err_plot = []\n",
    "\n",
    "oldError = 0\n",
    "presentError = 10\n",
    "repetitions = 0\n",
    "\n",
    "while repetitions < 100 and abs(oldError - presentError) > 0.00001:\n",
    "    oldError = presentError\n",
    "    for i in range(0,len(ovr.weight)):\n",
    "        summation_ovr = 0\n",
    "        for j in ovr.weight[i]:\n",
    "            summation_ovr = summation_ovr + weights[j[0]]*j[1]\n",
    "        error = summation_ovr - Y_train[i]\n",
    "        solution  = error/generalization_factor\n",
    "        for j in ovr.weight[i]:\n",
    "            weights[j[0]] = weights[j[0]] - learning_rate*solution*j[1]\n",
    "    presentError = float(meanSquare(weights,ovr.weight,X_train,Y_train))\n",
    "    err_list.append(presentError)\n",
    "    repetitions = repetitions + 1\n",
    "    err_plot.append(repetitions)\n",
    "\n",
    "plt.figure(2)\n",
    "plt.plot(np.asarray(err_plot), np.asarray(err_list), 'g--',label = 'error convergence')\n",
    "plt.legend()\n",
    "plt.show()"
   ]
  },
  {
   "cell_type": "code",
   "execution_count": 130,
   "metadata": {},
   "outputs": [
    {
     "data": {
      "image/png": "[encoded data removed]",
      "text/plain": [
       "<Figure size 432x288 with 1 Axes>"
      ]
     },
     "metadata": {
      "needs_background": "light"
     },
     "output_type": "display_data"
    },
    {
     "data": {
      "image/png": "[encoded data removed]",
      "text/plain": [
       "<Figure size 432x288 with 1 Axes>"
      ]
     },
     "metadata": {
      "needs_background": "light"
     },
     "output_type": "display_data"
    }
   ],
   "source": [
    "#Testing procedure\n",
    "\n",
    "output = Result(weights, ovr_test.weight)\n",
    "Accuracy =float(meanSquare(weights,ovr_test.weight,X_test,Y_test))\n",
    "\n",
    "plt.figure(3)\n",
    "plt.plot(X_train,Y_train,'g+',label = 'training data')\n",
    "plt.plot(X_test,Y_test,'r+',label = 'test data')\n",
    "plt.plot(X_test,np.asarray(output),'bo', label = 'predicted outputs')\n",
    "plt.legend()\n",
    "plt.show()\n",
    "\n",
    "plt.plot(X_test,Y_test,'g+',label = 'test data')\n",
    "plt.legend()\n",
    "plt.show()"
   ]
  },
  {
   "cell_type": "code",
   "execution_count": null,
   "metadata": {},
   "outputs": [],
   "source": []
  },
  {
   "cell_type": "code",
   "execution_count": null,
   "metadata": {},
   "outputs": [],
   "source": []
  }
 ],
 "metadata": {
  "kernelspec": {
   "display_name": "Python 3",
   "language": "python",
   "name": "python3"
  },
  "language_info": {
   "codemirror_mode": {
    "name": "ipython",
    "version": 3
   },
   "file_extension": ".py",
   "mimetype": "text/x-python",
   "name": "python",
   "nbconvert_exporter": "python",
   "pygments_lexer": "ipython3",
   "version": "3.7.4"
  }
 },
 "nbformat": 4,
 "nbformat_minor": 4
}
